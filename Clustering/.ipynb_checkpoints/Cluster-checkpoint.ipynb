{
 "cells": [
  {
   "cell_type": "code",
   "execution_count": 1,
   "metadata": {},
   "outputs": [
    {
     "name": "stderr",
     "output_type": "stream",
     "text": [
      "Using TensorFlow backend.\n"
     ]
    }
   ],
   "source": [
    "import numpy as np\n",
    "import pandas as pd\n",
    "import tensorflow as tf\n",
    "from tensorflow import keras\n",
    "from keras.preprocessing.image import ImageDataGenerator\n",
    "from keras.applications import InceptionV3\n",
    "import matplotlib.pyplot as plt\n",
    "from sklearn.cluster import KMeans\n",
    "from sklearn.manifold import TSNE\n",
    "import os\n",
    "import cv2"
   ]
  },
  {
   "cell_type": "code",
   "execution_count": 6,
   "metadata": {},
   "outputs": [],
   "source": [
    "IMG_PATH_MEN = \"../Pics - Copy/Men/\"\n",
    "IMG_PATH_WOMEN = \"../Pics - Copy/Women/\""
   ]
  },
  {
   "cell_type": "code",
   "execution_count": 7,
   "metadata": {},
   "outputs": [],
   "source": [
    "idx2img_men = {}\n",
    "idx2img_women = {}\n",
    "for i, img in enumerate(os.listdir(IMG_PATH_MEN)):\n",
    "    idx2img_men[i] = img\n",
    "for i, img in enumerate(os.listdir(IMG_PATH_WOMEN)):\n",
    "    idx2img_women[i] = img\n"
   ]
  },
  {
   "cell_type": "code",
   "execution_count": 9,
   "metadata": {},
   "outputs": [],
   "source": [
    "img2idx_men = {v:k for k,v in idx2img_men.items()}\n",
    "img2idx_women = {v:k for k,v in idx2img_women.items()}"
   ]
  },
  {
   "cell_type": "code",
   "execution_count": 10,
   "metadata": {},
   "outputs": [
    {
     "data": {
      "text/plain": [
       "{'A.L.C. Kati Puff-Sleeve Tee.jpg': 0,\n",
       " 'Alexander Wang Striped Slub Jersey T-shirt - Ivory.jpg': 1,\n",
       " \"AMI Men's De Coeur T-Shirt - Rouge.jpg\": 2,\n",
       " \"AMI Men's De Coeur T-Shirt - White.jpg\": 3,\n",
       " \"AMI Men's Logo T-Shirt - Ecru.jpg\": 4,\n",
       " \"AMI Men's T-Shirt - Noir.jpg\": 5,\n",
       " 'Aviator Nation Rainbow Embroidered Tie-Dye T-Shirt.jpg': 6,\n",
       " 'Balenciaga Printed Cotton-jersey T-shirt - Pink.jpg': 7,\n",
       " \"Balmain Men's Silver Mirror T-Shirt - Noir.jpg\": 8,\n",
       " \"Barbour International Men's Decal Long Sleeve T-Shirt - White.jpg\": 9,\n",
       " \"Barbour International Men's Essential Large Logo T-Shirt - White.jpg\": 10,\n",
       " \"Barbour International Men's Frame T-Shirt - White.jpg\": 11,\n",
       " \"Barbour International Men's Small Logo T-Shirt - White.jpg\": 12,\n",
       " \"Barbour Men's Sports T-Shirt - Navy.jpg\": 13,\n",
       " \"Barbour Men's Sports T-Shirt - White.jpg\": 14,\n",
       " \"Belstaff Men's Thom T-Shirt - Black.jpg\": 15,\n",
       " 'Bottega Veneta T-Shirt.jpg': 16,\n",
       " 'Chequer Merino Wool Blend Jacquard Polo Shirt in Archive Beige.jpg': 17,\n",
       " 'Colt Men Charcoal Crew Neck Cotton Jersey Printed T-Shirt.jpg': 18,\n",
       " 'Colt Men Red Crew Neck Printed Cotton Jersey T-Shirt.jpg': 19,\n",
       " 'Colt Men Teal Green Front Print Crew Neck Jersey T-Shirt.jpg': 20,\n",
       " 'Comme des Garcons heart logo T-shirt.jpg': 21,\n",
       " \"Drôle de Monsieur Men's NFPM T-Shirt - White.jpg\": 22,\n",
       " \"Dsquared2 Men's Cool Fit Box Logo T-Shirt - White.jpg\": 23,\n",
       " \"Dsquared2 Men's Cool Fit Centre Logo Icon T-Shirt - Black.jpg\": 24,\n",
       " \"Dsquared2 Men's Cool Fit Icon T-Shirt - Navy.jpg\": 25,\n",
       " \"Dsquared2 Men's Cool Fit Icon T-Shirt - Red.jpg\": 26,\n",
       " \"Edwin Men's Sunset On Mt. Fuji T-Shirt - White.jpg\": 27,\n",
       " 'Embroidered Logo Knit Silk Polo Shirt.jpg': 28,\n",
       " \"Emporio Armani Men's Large Eagle Logo T-Shirt - Navy.jpg\": 29,\n",
       " \"Emporio Armani Men's Large Eagle T-Shirt - White.jpg\": 30,\n",
       " 'GAP Men Navy Short Sleeve Cotton Stretch Logo Polo Shirt.jpg': 31,\n",
       " 'GAP Men White Short Sleeve Cotton Stretch Logo Polo Shirt.jpg': 32,\n",
       " 'Graphic Crewneck Tee Shirt.jpg': 33,\n",
       " \"Helmut Lang Men's Standard Eagle T-Shirt - Chalk White.jpg\": 34,\n",
       " \"Helmut Lang Men's Standard Painter T-Shirt - Bronze.jpg\": 35,\n",
       " \"Helmut Lang Men's Standard Painter T-Shirt - Pewter.jpg\": 36,\n",
       " \"Helmut Lang Men's Standard T-Shirt - Chalk White.jpg\": 37,\n",
       " 'Housemark Graphic Tee Shirt.jpg': 38,\n",
       " \"HUGO Men's Dero203 T-Shirt - Black.jpg\": 39,\n",
       " \"HUGO Men's Dero203 T-Shirt - White.jpg\": 40,\n",
       " \"HUGO Men's Durned203 T-Shirt - Black.jpg\": 41,\n",
       " \"HUGO Men's Durned203 T-Shirt - Open Pink.jpg\": 42,\n",
       " 'James Perse Slub Supima Cotton-jersey T-shirt - Midnight blue.jpg': 43,\n",
       " 'James Perse Vintage Boy Cotton-jersey T-shirt - Army green.jpg': 44,\n",
       " 'K ACTIVE KOOVS Legend Mesh Tipped Ringer T-Shirt.jpg': 45,\n",
       " 'K ACTIVE KOOVS No Limits Contrast Tape T-Shirt.jpg': 46,\n",
       " 'K ACTIVE KOOVS Spliced Text Print Airtex T-Shirt.jpg': 47,\n",
       " \"KENZO Men's Bi-Colour Logo T-Shirt - Black.jpg\": 48,\n",
       " \"KENZO Men's Classic Eye T-Shirt - Black.jpg\": 49,\n",
       " \"KENZO Men's Classic Eye T-Shirt - White.jpg\": 50,\n",
       " \"KENZO Men's Multicolour Logo T-Shirt - Navy Blue.jpg\": 51,\n",
       " \"KENZO Men's Seasonal Striped T-Shirt - Ecru.jpg\": 52,\n",
       " \"KENZO Men's Tiger Crest T-Shirt - Black.jpg\": 53,\n",
       " \"KENZO Men's Tiger Crest T-Shirt - White.jpg\": 54,\n",
       " \"KENZO Men's Varsity Tiger T-Shirt - Pearl Grey.jpg\": 55,\n",
       " 'Kenzo Printed Cotton-jersey T-shirt - Baby pink.jpg': 56,\n",
       " 'KOOVS All Over Abstract Print Polo Shirt.jpg': 57,\n",
       " 'KOOVS All Over Self Print T-Shirt.jpg': 58,\n",
       " 'KOOVS Animal Print Muscle Fit T-Shirt.jpg': 59,\n",
       " 'KOOVS Badge Print Boxy Fit T-Shirt.jpg': 60,\n",
       " 'KOOVS Basic Cap Sleeve T-Shirt.jpg': 61,\n",
       " 'KOOVS Basic Muscle Fit T-Shirt.jpg': 62,\n",
       " 'KOOVS Cap Sleeve Crew Neck T-Shirt.jpg': 63,\n",
       " 'KOOVS Floral Leopard Block Print T-Shirt.jpg': 64,\n",
       " 'KOOVS Glitch Check Muscle Fit T-Shirt.jpg': 65,\n",
       " 'KOOVS Hardcore Life Cut & Sew T-Shirt.jpg': 66,\n",
       " 'KOOVS Leopard Chain Scarf Print T-Shirt.jpg': 67,\n",
       " 'KOOVS London Graphic Placement Print T-Shirt.jpg': 68,\n",
       " 'KOOVS Mesh Cuban Polo Shirt.jpg': 69,\n",
       " 'KOOVS Muscle Fit Crew Neck T-Shirt.jpg': 70,\n",
       " 'KOOVS Muscle Fit Long Sleeve T-Shirt.jpg': 71,\n",
       " 'KOOVS Scoop Neck Short Sleeve T-Shirt.jpg': 72,\n",
       " 'KOOVS Scoop Neck Slim T-Shirt.jpg': 73,\n",
       " 'KOOVS Shimmer Stripe Muscle Fit T-Shirt.jpg': 74,\n",
       " 'KOOVS Slogan Print Colour Block T-Shirt.jpg': 75,\n",
       " 'KOOVS Tapestry Text Print Polo Shirt.jpg': 76,\n",
       " 'KOOVS Text Memphis Print Tie-Dye T-Shirt.jpg': 77,\n",
       " 'KOOVS Text Palm Print Tie-Dye T-Shirt.jpg': 78,\n",
       " 'KOOVS Text Print Contrast Neck T-Shirt.jpg': 79,\n",
       " 'KOOVS Vertical Stripe Knitted Polo Shirt.jpg': 80,\n",
       " 'KOOVS Yarn Dyed Pique Stripe Polo Shirt.jpg': 81,\n",
       " 'KOOVS Zebra Stripe Camo Print T-Shirt.jpg': 82,\n",
       " 'Kultprit Thumb Hole Long Sleeve T-Shirt.jpg': 83,\n",
       " \"Levi's® x Vote Relaxed Fit Tee Shirt.jpg\": 84,\n",
       " 'Madewell Boxy Polo Tee.jpg': 85,\n",
       " 'Madewell Knot-Back Tee.jpg': 86,\n",
       " 'Madewell Knot-Front Tee in Hawaiian Hideaway.jpg': 87,\n",
       " 'Madewell Raw-Edge Henley Tee.jpg': 88,\n",
       " 'Madewell Rivet & Thread Triblend Oversized Boxy-Crop Tee.jpg': 89,\n",
       " 'Madewell Sun Salt Sand Citrus Graphic Relaxed Tee.jpg': 90,\n",
       " 'Madewell Sunkissed Beach Club Graphic Tomboy Tee.jpg': 91,\n",
       " 'Madewell Superlight Jacquard Puff-Sleeve Tee in Stripe.jpg': 92,\n",
       " 'Madewell The Perfect Vintage Tee in Paradise Toile.jpg': 93,\n",
       " 'Madewell Tie-Dye Cap-Sleeve Boxy Tee.jpg': 94,\n",
       " \"Maison Kitsune Men's Palais Royal T-Shirt - Black.jpg\": 95,\n",
       " \"Maison Kitsune Men's Palais Royal T-Shirt - Latte.jpg\": 96,\n",
       " \"Maison Kitsune Men's Palais Royal T-Shirt - Navy.jpg\": 97,\n",
       " \"Maison Kitsune Men's Parisien T-Shirt - Latte.jpg\": 98,\n",
       " \"Maison Margiela Men's Centre Logo T-Shirt - Black.jpg\": 99,\n",
       " \"Maison Margiela Men's Resin Garment Dyed T-Shirt - Nude Beige.jpg\": 100,\n",
       " 'Marine Serre Logo cotton-jersey T-shirt.jpg': 101,\n",
       " 'Marine Serre Printed cotton-jersey T-shirt.jpg': 102,\n",
       " 'Marine Serre White and Black Moon Allover Long Sleeve T-Shirt.jpg': 103,\n",
       " 'mens Broken-in short-sleeve pocket T-shirt.jpg': 104,\n",
       " 'mens Broken-in short-sleeve T-shirt.jpg': 105,\n",
       " 'mens Garment-dyed malibu workshirt.jpg': 106,\n",
       " 'mens Garment-dyed slub cotton crewneck T-shirt.jpg': 107,\n",
       " 'mens Garment-dyed slub cotton short-sleeve henley.jpg': 108,\n",
       " 'mens Slub cotton no-pocket T-shirt.jpg': 109,\n",
       " 'mens Slub cotton T-shirt in stripe.jpg': 110,\n",
       " 'mens Slub jersey pocket T-shirt in navy stripe.jpg': 111,\n",
       " 'Monogram Motif Cotton Oversized T-shirt in Black.jpg': 112,\n",
       " 'Monogram Motif Cotton Oversized T-shirt in White.jpg': 113,\n",
       " 'Monogram Motif Cotton Piqué Polo Shirt in Deep Khaki.jpg': 114,\n",
       " 'Monogram Motif Cotton Piqué Polo Shirt in Pale Thistle.jpg': 115,\n",
       " 'Monogram Motif Cotton Piqué Polo Shirt in Soft Fawn.jpg': 116,\n",
       " 'Monogram Motif Cotton Piqué Polo Shirt.jpg': 117,\n",
       " 'Monogram Motif Cotton T-shirt – Unisex in Black.jpg': 118,\n",
       " 'Monogram Motif Cotton T-shirt – Unisex in Bright Orange.jpg': 119,\n",
       " 'Monogram Motif Cotton T-shirt – Unisex in White.jpg': 120,\n",
       " 'Monogram Print Cotton Piqué Polo Shirt – Unisex in Dark Beige.jpg': 121,\n",
       " 'Monogram Print Cotton Piqué Polo Shirt – Unisex in Pale Azure.jpg': 122,\n",
       " 'Montage Print Cotton Oversized T-shirt in Alabaster Pink.jpg': 123,\n",
       " 'Montage Print Cotton T-shirt in Black.jpg': 124,\n",
       " 'Montage Print Cotton T-shirt in White.jpg': 125,\n",
       " \"Neil Barrett Men's Fairisle Thunderbolt T-Shirt - Black Multi.jpg\": 126,\n",
       " \"Neil Barrett Men's Fairisle Thunderbolt T-Shirt - White Multi.jpg\": 127,\n",
       " 'New.jpg': 128,\n",
       " 'Off-White Printed Cotton-jersey T-shirt.jpg': 129,\n",
       " \"Orlebar Brown Men's Crewneck T-Shirt - Denim Pigment.jpg\": 130,\n",
       " \"Orlebar Brown Men's Crewneck T-Shirt - Mid Grey Melange.jpg\": 131,\n",
       " \"Orlebar Brown Men's Crewneck T-Shirt - White.jpg\": 132,\n",
       " \"Orlebar Brown Men's OB-T Tailored Fit Crew Neck T-Shirt - Blue Haze.jpg\": 133,\n",
       " \"Orlebar Brown Men's Terry T-Shirt - White.jpg\": 134,\n",
       " \"Polo Ralph Lauren Men's 2 Pack Short Sleeve T-Shirt - Andover Heather.jpg\": 135,\n",
       " \"Polo Ralph Lauren Men's 2 Pack Short Sleeve T-Shirt - Polo Black.jpg\": 136,\n",
       " \"Polo Ralph Lauren Men's Custom Fit Crew Neck T-Shirt - Ink.jpg\": 137,\n",
       " \"Polo Ralph Lauren Men's Custom Fit Crew Neck T-Shirt - RL Black.jpg\": 138,\n",
       " \"Polo Ralph Lauren Men's Custom Fit Crew Neck T-Shirt - White.jpg\": 139,\n",
       " \"Polo Sport Ralph Lauren Men's T-Shirt - Cruise Navy.jpg\": 140,\n",
       " \"PS Paul Smith Men's Zebra Polo Shirt - Black.jpg\": 141,\n",
       " \"PS Paul Smith Men's Zebra Polo Shirt - Blue.jpg\": 142,\n",
       " \"PS Paul Smith Men's Zebra Polo Shirt - Grey.jpg\": 143,\n",
       " \"PS Paul Smith Men's Zebra Polo Shirt - White.jpg\": 144,\n",
       " 'Sunset Pocket Tee Shirt.jpg': 145,\n",
       " 'Tory Burch Striped Floral Embroidered T-Shirt.jpg': 146,\n",
       " 'Two-Horse Pull Graphic Tee Shirt.jpg': 147,\n",
       " \"Universal Works Men's Organic Sun Print T-Shirt - Ecru.jpg\": 148,\n",
       " \"Universal Works Men's Organic Sun Print T-Shirt - Navy.jpg\": 149,\n",
       " \"Wooyoungmi Men's Basic T-Shirt - Beige.jpg\": 150}"
      ]
     },
     "execution_count": 10,
     "metadata": {},
     "output_type": "execute_result"
    }
   ],
   "source": [
    "img2idx_men"
   ]
  },
  {
   "cell_type": "code",
   "execution_count": 11,
   "metadata": {},
   "outputs": [],
   "source": [
    "saved_model = tf.keras.models.load_model(\"../inception_v3.h5\")"
   ]
  },
  {
   "cell_type": "code",
   "execution_count": 12,
   "metadata": {},
   "outputs": [
    {
     "name": "stdout",
     "output_type": "stream",
     "text": [
      "Model: \"sequential_8\"\n",
      "_________________________________________________________________\n",
      "Layer (type)                 Output Shape              Param #   \n",
      "=================================================================\n",
      "inception_v3 (Functional)    (None, 5, 5, 2048)        21802784  \n",
      "_________________________________________________________________\n",
      "flatten_6 (Flatten)          (None, 51200)             0         \n",
      "_________________________________________________________________\n",
      "dense_9 (Dense)              (None, 128)               6553728   \n",
      "_________________________________________________________________\n",
      "dense_10 (Dense)             (None, 2)                 258       \n",
      "=================================================================\n",
      "Total params: 28,356,770\n",
      "Trainable params: 6,553,986\n",
      "Non-trainable params: 21,802,784\n",
      "_________________________________________________________________\n"
     ]
    }
   ],
   "source": [
    "saved_model.summary()"
   ]
  },
  {
   "cell_type": "code",
   "execution_count": 13,
   "metadata": {},
   "outputs": [],
   "source": [
    "extractor = tf.keras.Model(inputs = saved_model.inputs, outputs = saved_model.layers[-2].output)"
   ]
  },
  {
   "cell_type": "code",
   "execution_count": 14,
   "metadata": {},
   "outputs": [],
   "source": [
    "def extract_features(extractor, mapping, path):\n",
    "    \"\"\"\n",
    "    Extract Image Features from trained model\n",
    "    extractor: Extractor Model\n",
    "    mapping: Index - Image mapping \n",
    "    path: Image Directory\n",
    "    \"\"\"\n",
    "    features = []\n",
    "    for i, img in mapping.items():\n",
    "        img_path = path + img\n",
    "        try:\n",
    "            image = plt.imread(img_path)\n",
    "            image = cv2.resize(image, (224, 224))\n",
    "            image = np.expand_dims(image, axis = 0)\n",
    "            feature = extractor.predict(image)\n",
    "            features.append(feature[0])\n",
    "        except:\n",
    "            print(i)\n",
    "            continue\n",
    "            \n",
    "    return features"
   ]
  },
  {
   "cell_type": "code",
   "execution_count": 15,
   "metadata": {},
   "outputs": [],
   "source": [
    "features_men = extract_features(extractor, idx2img_men, IMG_PATH_MEN)"
   ]
  },
  {
   "cell_type": "code",
   "execution_count": 16,
   "metadata": {},
   "outputs": [
    {
     "data": {
      "text/plain": [
       "'Aviator Nation Rainbow Embroidered Tie-Dye T-Shirt.jpg'"
      ]
     },
     "execution_count": 16,
     "metadata": {},
     "output_type": "execute_result"
    }
   ],
   "source": [
    "idx2img_men[6]"
   ]
  },
  {
   "cell_type": "code",
   "execution_count": 17,
   "metadata": {},
   "outputs": [],
   "source": [
    "features_women = extract_features(extractor, idx2img_women, IMG_PATH_WOMEN)"
   ]
  },
  {
   "cell_type": "code",
   "execution_count": 18,
   "metadata": {},
   "outputs": [
    {
     "data": {
      "text/plain": [
       "(151, 181)"
      ]
     },
     "execution_count": 18,
     "metadata": {},
     "output_type": "execute_result"
    }
   ],
   "source": [
    "len(features_men), len(features_women)"
   ]
  },
  {
   "cell_type": "code",
   "execution_count": 20,
   "metadata": {},
   "outputs": [],
   "source": [
    "features_men = np.array(features_men)"
   ]
  },
  {
   "cell_type": "code",
   "execution_count": 21,
   "metadata": {},
   "outputs": [
    {
     "data": {
      "text/plain": [
       "(151, 128)"
      ]
     },
     "execution_count": 21,
     "metadata": {},
     "output_type": "execute_result"
    }
   ],
   "source": [
    "features_men.shape"
   ]
  },
  {
   "cell_type": "code",
   "execution_count": 22,
   "metadata": {},
   "outputs": [],
   "source": [
    "features_women = np.array(features_women)"
   ]
  },
  {
   "cell_type": "code",
   "execution_count": 23,
   "metadata": {},
   "outputs": [
    {
     "data": {
      "text/plain": [
       "(181, 128)"
      ]
     },
     "execution_count": 23,
     "metadata": {},
     "output_type": "execute_result"
    }
   ],
   "source": [
    "features_women.shape"
   ]
  },
  {
   "cell_type": "code",
   "execution_count": 24,
   "metadata": {},
   "outputs": [],
   "source": [
    "from sklearn.manifold import TSNE\n",
    "from sklearn.cluster import KMeans\n",
    "import seaborn as sns"
   ]
  },
  {
   "cell_type": "code",
   "execution_count": 25,
   "metadata": {},
   "outputs": [],
   "source": [
    "men_embedded = TSNE(n_components=2).fit_transform(features_men)\n",
    "preds_men = KMeans(n_clusters=5).fit_predict(features_men)"
   ]
  },
  {
   "cell_type": "code",
   "execution_count": 26,
   "metadata": {},
   "outputs": [
    {
     "data": {
      "text/plain": [
       "(151, 2)"
      ]
     },
     "execution_count": 26,
     "metadata": {},
     "output_type": "execute_result"
    }
   ],
   "source": [
    "men_embedded.shape"
   ]
  },
  {
   "cell_type": "code",
   "execution_count": 27,
   "metadata": {},
   "outputs": [
    {
     "data": {
      "text/plain": [
       "<matplotlib.axes._subplots.AxesSubplot at 0x21eb0113f08>"
      ]
     },
     "execution_count": 27,
     "metadata": {},
     "output_type": "execute_result"
    },
    {
     "data": {
      "image/png": "[encoded data removed]",
      "text/plain": [
       "<Figure size 432x288 with 1 Axes>"
      ]
     },
     "metadata": {
      "needs_background": "light"
     },
     "output_type": "display_data"
    }
   ],
   "source": [
    "sns.scatterplot(men_embedded[:,0], men_embedded[:,1], legend='full',hue = preds_men, palette=sns.color_palette(\"hls\", 5))"
   ]
  },
  {
   "cell_type": "code",
   "execution_count": 28,
   "metadata": {},
   "outputs": [],
   "source": [
    "preds_women = KMeans(n_clusters=5).fit_predict(features_women)"
   ]
  },
  {
   "cell_type": "code",
   "execution_count": 29,
   "metadata": {},
   "outputs": [],
   "source": [
    "women_embedded = TSNE(n_components=2).fit_transform(features_women)"
   ]
  },
  {
   "cell_type": "code",
   "execution_count": 30,
   "metadata": {},
   "outputs": [
    {
     "data": {
      "text/plain": [
       "<matplotlib.axes._subplots.AxesSubplot at 0x21f83432848>"
      ]
     },
     "execution_count": 30,
     "metadata": {},
     "output_type": "execute_result"
    },
    {
     "data": {
      "image/png": "[encoded data removed]",
      "text/plain": [
       "<Figure size 432x288 with 1 Axes>"
      ]
     },
     "metadata": {
      "needs_background": "light"
     },
     "output_type": "display_data"
    }
   ],
   "source": [
    "sns.scatterplot(women_embedded[:,0], women_embedded[:,1], legend='full',hue = preds_women, palette=sns.color_palette(\"hls\", 5))"
   ]
  },
  {
   "cell_type": "code",
   "execution_count": 31,
   "metadata": {},
   "outputs": [],
   "source": [
    "for i, (idx, img) in enumerate(idx2img_men.items()):\n",
    "    idx2img_men[i] = img"
   ]
  },
  {
   "cell_type": "code",
   "execution_count": 32,
   "metadata": {},
   "outputs": [],
   "source": [
    "def cluster_mapping(preds, idx2img, path):\n",
    "    \"\"\"\n",
    "    Create a mapping between images and their respective clusters\n",
    "    preds: Cluster each image is in\n",
    "    idx2img: Index-Image mapping\n",
    "    path: Image Directory\n",
    "    \n",
    "    Returns:\n",
    "    A dictionary between images and theor respective clusters\n",
    "    \"\"\"\n",
    "    \n",
    "    idx2cluster = {}\n",
    "    for idx, img in idx2img.items():\n",
    "        pred = preds[idx]\n",
    "        idx2cluster[idx] = pred\n",
    "    \n",
    "    return idx2cluster\n",
    "            "
   ]
  },
  {
   "cell_type": "code",
   "execution_count": 33,
   "metadata": {},
   "outputs": [],
   "source": [
    "idx2cluster_men = cluster_mapping(preds_men, idx2img_men, IMG_PATH_MEN)"
   ]
  },
  {
   "cell_type": "code",
   "execution_count": 34,
   "metadata": {},
   "outputs": [],
   "source": [
    "idx2cluster_women = cluster_mapping(preds_women, idx2img_women, IMG_PATH_WOMEN)"
   ]
  },
  {
   "cell_type": "code",
   "execution_count": 35,
   "metadata": {
    "collapsed": true
   },
   "outputs": [
    {
     "data": {
      "text/plain": [
       "{0: 2,\n",
       " 1: 1,\n",
       " 2: 1,\n",
       " 3: 2,\n",
       " 4: 2,\n",
       " 5: 4,\n",
       " 6: 2,\n",
       " 7: 2,\n",
       " 8: 4,\n",
       " 9: 2,\n",
       " 10: 2,\n",
       " 11: 1,\n",
       " 12: 2,\n",
       " 13: 4,\n",
       " 14: 1,\n",
       " 15: 0,\n",
       " 16: 2,\n",
       " 17: 3,\n",
       " 18: 2,\n",
       " 19: 2,\n",
       " 20: 1,\n",
       " 21: 3,\n",
       " 22: 2,\n",
       " 23: 1,\n",
       " 24: 4,\n",
       " 25: 4,\n",
       " 26: 4,\n",
       " 27: 2,\n",
       " 28: 3,\n",
       " 29: 4,\n",
       " 30: 2,\n",
       " 31: 3,\n",
       " 32: 2,\n",
       " 33: 4,\n",
       " 34: 1,\n",
       " 35: 2,\n",
       " 36: 4,\n",
       " 37: 2,\n",
       " 38: 1,\n",
       " 39: 4,\n",
       " 40: 1,\n",
       " 41: 4,\n",
       " 42: 4,\n",
       " 43: 4,\n",
       " 44: 3,\n",
       " 45: 1,\n",
       " 46: 1,\n",
       " 47: 1,\n",
       " 48: 4,\n",
       " 49: 4,\n",
       " 50: 2,\n",
       " 51: 0,\n",
       " 52: 2,\n",
       " 53: 4,\n",
       " 54: 2,\n",
       " 55: 2,\n",
       " 56: 2,\n",
       " 57: 2,\n",
       " 58: 1,\n",
       " 59: 2,\n",
       " 60: 1,\n",
       " 61: 2,\n",
       " 62: 2,\n",
       " 63: 0,\n",
       " 64: 1,\n",
       " 65: 2,\n",
       " 66: 2,\n",
       " 67: 1,\n",
       " 68: 0,\n",
       " 69: 2,\n",
       " 70: 2,\n",
       " 71: 1,\n",
       " 72: 1,\n",
       " 73: 1,\n",
       " 74: 1,\n",
       " 75: 3,\n",
       " 76: 4,\n",
       " 77: 1,\n",
       " 78: 2,\n",
       " 79: 2,\n",
       " 80: 0,\n",
       " 81: 2,\n",
       " 82: 1,\n",
       " 83: 4,\n",
       " 84: 1,\n",
       " 85: 2,\n",
       " 86: 0,\n",
       " 87: 2,\n",
       " 88: 2,\n",
       " 89: 2,\n",
       " 90: 2,\n",
       " 91: 1,\n",
       " 92: 2,\n",
       " 93: 1,\n",
       " 94: 2,\n",
       " 95: 3,\n",
       " 96: 2,\n",
       " 97: 2,\n",
       " 98: 2,\n",
       " 99: 0,\n",
       " 100: 2,\n",
       " 101: 2,\n",
       " 102: 4,\n",
       " 103: 1,\n",
       " 104: 0,\n",
       " 105: 4,\n",
       " 106: 1,\n",
       " 107: 4,\n",
       " 108: 2,\n",
       " 109: 2,\n",
       " 110: 1,\n",
       " 111: 0,\n",
       " 112: 4,\n",
       " 113: 1,\n",
       " 114: 1,\n",
       " 115: 2,\n",
       " 116: 1,\n",
       " 117: 4,\n",
       " 118: 4,\n",
       " 119: 1,\n",
       " 120: 1,\n",
       " 121: 0,\n",
       " 122: 0,\n",
       " 123: 1,\n",
       " 124: 4,\n",
       " 125: 1,\n",
       " 126: 3,\n",
       " 127: 1,\n",
       " 128: 3,\n",
       " 129: 2,\n",
       " 130: 4,\n",
       " 131: 1,\n",
       " 132: 1,\n",
       " 133: 1,\n",
       " 134: 2,\n",
       " 135: 2,\n",
       " 136: 4,\n",
       " 137: 4,\n",
       " 138: 4,\n",
       " 139: 2,\n",
       " 140: 4,\n",
       " 141: 4,\n",
       " 142: 4,\n",
       " 143: 2,\n",
       " 144: 2,\n",
       " 145: 2,\n",
       " 146: 1,\n",
       " 147: 1,\n",
       " 148: 1,\n",
       " 149: 4,\n",
       " 150: 1}"
      ]
     },
     "execution_count": 35,
     "metadata": {},
     "output_type": "execute_result"
    }
   ],
   "source": [
    "idx2cluster_men"
   ]
  },
  {
   "cell_type": "code",
   "execution_count": 36,
   "metadata": {
    "collapsed": true
   },
   "outputs": [
    {
     "data": {
      "text/plain": [
       "{0: 2,\n",
       " 1: 2,\n",
       " 2: 2,\n",
       " 3: 0,\n",
       " 4: 1,\n",
       " 5: 1,\n",
       " 6: 1,\n",
       " 7: 3,\n",
       " 8: 2,\n",
       " 9: 1,\n",
       " 10: 2,\n",
       " 11: 0,\n",
       " 12: 1,\n",
       " 13: 1,\n",
       " 14: 1,\n",
       " 15: 2,\n",
       " 16: 2,\n",
       " 17: 1,\n",
       " 18: 2,\n",
       " 19: 0,\n",
       " 20: 3,\n",
       " 21: 1,\n",
       " 22: 1,\n",
       " 23: 1,\n",
       " 24: 2,\n",
       " 25: 2,\n",
       " 26: 0,\n",
       " 27: 2,\n",
       " 28: 1,\n",
       " 29: 0,\n",
       " 30: 0,\n",
       " 31: 4,\n",
       " 32: 1,\n",
       " 33: 1,\n",
       " 34: 4,\n",
       " 35: 2,\n",
       " 36: 2,\n",
       " 37: 3,\n",
       " 38: 1,\n",
       " 39: 0,\n",
       " 40: 1,\n",
       " 41: 0,\n",
       " 42: 3,\n",
       " 43: 3,\n",
       " 44: 1,\n",
       " 45: 2,\n",
       " 46: 1,\n",
       " 47: 2,\n",
       " 48: 2,\n",
       " 49: 3,\n",
       " 50: 1,\n",
       " 51: 3,\n",
       " 52: 2,\n",
       " 53: 1,\n",
       " 54: 2,\n",
       " 55: 1,\n",
       " 56: 1,\n",
       " 57: 0,\n",
       " 58: 0,\n",
       " 59: 1,\n",
       " 60: 1,\n",
       " 61: 1,\n",
       " 62: 2,\n",
       " 63: 2,\n",
       " 64: 2,\n",
       " 65: 0,\n",
       " 66: 1,\n",
       " 67: 0,\n",
       " 68: 0,\n",
       " 69: 1,\n",
       " 70: 4,\n",
       " 71: 1,\n",
       " 72: 1,\n",
       " 73: 0,\n",
       " 74: 1,\n",
       " 75: 3,\n",
       " 76: 2,\n",
       " 77: 4,\n",
       " 78: 3,\n",
       " 79: 1,\n",
       " 80: 3,\n",
       " 81: 2,\n",
       " 82: 0,\n",
       " 83: 1,\n",
       " 84: 0,\n",
       " 85: 2,\n",
       " 86: 0,\n",
       " 87: 1,\n",
       " 88: 2,\n",
       " 89: 0,\n",
       " 90: 2,\n",
       " 91: 3,\n",
       " 92: 0,\n",
       " 93: 3,\n",
       " 94: 1,\n",
       " 95: 3,\n",
       " 96: 1,\n",
       " 97: 2,\n",
       " 98: 2,\n",
       " 99: 1,\n",
       " 100: 1,\n",
       " 101: 3,\n",
       " 102: 1,\n",
       " 103: 1,\n",
       " 104: 1,\n",
       " 105: 1,\n",
       " 106: 1,\n",
       " 107: 1,\n",
       " 108: 4,\n",
       " 109: 1,\n",
       " 110: 2,\n",
       " 111: 2,\n",
       " 112: 2,\n",
       " 113: 1,\n",
       " 114: 2,\n",
       " 115: 1,\n",
       " 116: 2,\n",
       " 117: 1,\n",
       " 118: 1,\n",
       " 119: 4,\n",
       " 120: 0,\n",
       " 121: 1,\n",
       " 122: 1,\n",
       " 123: 1,\n",
       " 124: 1,\n",
       " 125: 0,\n",
       " 126: 1,\n",
       " 127: 2,\n",
       " 128: 3,\n",
       " 129: 3,\n",
       " 130: 1,\n",
       " 131: 4,\n",
       " 132: 0,\n",
       " 133: 3,\n",
       " 134: 2,\n",
       " 135: 2,\n",
       " 136: 2,\n",
       " 137: 1,\n",
       " 138: 1,\n",
       " 139: 1,\n",
       " 140: 0,\n",
       " 141: 0,\n",
       " 142: 2,\n",
       " 143: 1,\n",
       " 144: 1,\n",
       " 145: 1,\n",
       " 146: 1,\n",
       " 147: 1,\n",
       " 148: 0,\n",
       " 149: 3,\n",
       " 150: 2,\n",
       " 151: 1,\n",
       " 152: 2,\n",
       " 153: 2,\n",
       " 154: 1,\n",
       " 155: 2,\n",
       " 156: 0,\n",
       " 157: 3,\n",
       " 158: 3,\n",
       " 159: 1,\n",
       " 160: 1,\n",
       " 161: 1,\n",
       " 162: 4,\n",
       " 163: 4,\n",
       " 164: 4,\n",
       " 165: 1,\n",
       " 166: 2,\n",
       " 167: 4,\n",
       " 168: 4,\n",
       " 169: 1,\n",
       " 170: 0,\n",
       " 171: 0,\n",
       " 172: 2,\n",
       " 173: 3,\n",
       " 174: 2,\n",
       " 175: 2,\n",
       " 176: 1,\n",
       " 177: 1,\n",
       " 178: 2,\n",
       " 179: 1,\n",
       " 180: 3}"
      ]
     },
     "execution_count": 36,
     "metadata": {},
     "output_type": "execute_result"
    }
   ],
   "source": [
    "idx2cluster_women"
   ]
  },
  {
   "cell_type": "code",
   "execution_count": 38,
   "metadata": {},
   "outputs": [],
   "source": [
    "IMG_CLUSTER_MEN = \"Clusters/Men/\"\n",
    "IMG_CLUSTER_WOMEN = \"Clusters/Women/\""
   ]
  },
  {
   "cell_type": "code",
   "execution_count": 60,
   "metadata": {},
   "outputs": [],
   "source": [
    "def cluster_images(idx2cluster, idx2img, path, directory):\n",
    "    \"\"\"\n",
    "    Save Clustered Images\n",
    "    idx2cluster: Mapping between images and their respective clusters\n",
    "    idx2img: Index - Image Mapping\n",
    "    path: Image Directory\n",
    "    directory: Directory to cluster Images\n",
    "    \"\"\"\n",
    "    import shutil\n",
    "    \n",
    "    for i, img in idx2img.items():\n",
    "        cluster = idx2cluster[i]\n",
    "        img = idx2img[i]\n",
    "        \n",
    "        original_path = path + img\n",
    "        \n",
    "        cluster_path = os.path.join(directory, str(cluster))\n",
    "        if os.path.exists(cluster_path):\n",
    "            img_path = os.path.join(cluster_path, img)\n",
    "            shutil.copyfile(original_path, img_path)\n",
    "        else:\n",
    "            os.mkdir(cluster_path)\n",
    "            img_path = os.path.join(cluster_path, img)\n",
    "            shutil.copyfile(original_path, img_path)"
   ]
  },
  {
   "cell_type": "code",
   "execution_count": 40,
   "metadata": {},
   "outputs": [
    {
     "data": {
      "text/plain": [
       "4"
      ]
     },
     "execution_count": 40,
     "metadata": {},
     "output_type": "execute_result"
    }
   ],
   "source": [
    "idx2cluster_men[5]"
   ]
  },
  {
   "cell_type": "code",
   "execution_count": 42,
   "metadata": {},
   "outputs": [
    {
     "data": {
      "text/plain": [
       "\"AMI Men's T-Shirt - Noir.jpg\""
      ]
     },
     "execution_count": 42,
     "metadata": {},
     "output_type": "execute_result"
    }
   ],
   "source": [
    "idx2img_men[5]"
   ]
  },
  {
   "cell_type": "code",
   "execution_count": 43,
   "metadata": {},
   "outputs": [],
   "source": [
    "path = IMG_PATH_MEN + idx2img_men[5]"
   ]
  },
  {
   "cell_type": "code",
   "execution_count": 44,
   "metadata": {},
   "outputs": [
    {
     "data": {
      "text/plain": [
       "\"../Pics - Copy/Men/AMI Men's T-Shirt - Noir.jpg\""
      ]
     },
     "execution_count": 44,
     "metadata": {},
     "output_type": "execute_result"
    }
   ],
   "source": [
    "path"
   ]
  },
  {
   "cell_type": "code",
   "execution_count": 51,
   "metadata": {},
   "outputs": [],
   "source": [
    "cluster_path = os.path.join(\"Clusters/Men/\", str(idx2cluster_men[5]))"
   ]
  },
  {
   "cell_type": "code",
   "execution_count": 50,
   "metadata": {},
   "outputs": [],
   "source": [
    "os.mkdir(os.path.join(\"Clusters/Men/\", str(idx2cluster_men[5])))"
   ]
  },
  {
   "cell_type": "code",
   "execution_count": 53,
   "metadata": {},
   "outputs": [
    {
     "data": {
      "text/plain": [
       "\"Clusters/Men/4\\\\AMI Men's T-Shirt - Noir.jpg\""
      ]
     },
     "execution_count": 53,
     "metadata": {},
     "output_type": "execute_result"
    }
   ],
   "source": [
    "os.path.join(cluster_path, idx2img_men[5])"
   ]
  },
  {
   "cell_type": "code",
   "execution_count": 54,
   "metadata": {},
   "outputs": [
    {
     "data": {
      "text/plain": [
       "\"Clusters/Men/4\\\\AMI Men's T-Shirt - Noir.jpg\""
      ]
     },
     "execution_count": 54,
     "metadata": {},
     "output_type": "execute_result"
    }
   ],
   "source": [
    "shutil.copyfile(path, os.path.join(cluster_path, idx2img_men[5]))"
   ]
  },
  {
   "cell_type": "code",
   "execution_count": 61,
   "metadata": {},
   "outputs": [],
   "source": [
    "cluster_images(idx2cluster_men, idx2img_men, IMG_PATH_MEN, IMG_CLUSTER_MEN)"
   ]
  },
  {
   "cell_type": "code",
   "execution_count": 62,
   "metadata": {},
   "outputs": [],
   "source": [
    "cluster_images(idx2cluster_women, idx2img_women, IMG_PATH_WOMEN, IMG_CLUSTER_WOMEN)"
   ]
  },
  {
   "cell_type": "code",
   "execution_count": null,
   "metadata": {},
   "outputs": [],
   "source": []
  }
 ],
 "metadata": {
  "kernelspec": {
   "display_name": "Python 3",
   "language": "python",
   "name": "python3"
  },
  "language_info": {
   "codemirror_mode": {
    "name": "ipython",
    "version": 3
   },
   "file_extension": ".py",
   "mimetype": "text/x-python",
   "name": "python",
   "nbconvert_exporter": "python",
   "pygments_lexer": "ipython3",
   "version": "3.7.7"
  }
 },
 "nbformat": 4,
 "nbformat_minor": 4
}
